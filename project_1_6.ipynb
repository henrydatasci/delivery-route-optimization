{
 "cells": [
  {
   "cell_type": "markdown",
   "id": "cd11da2a",
   "metadata": {},
   "source": [
    "# Project 1, Part 6, Identifying Best Customers\n"
   ]
  },
  {
   "cell_type": "markdown",
   "id": "701f1c25",
   "metadata": {},
   "source": [
    "# 1.6 Ideas on how the sales data can be used to help identify best customers\n",
    "\n",
    "The data science team would like to know your best ideas on how the sales data can be used to help identify the company's best customers.\n",
    "\n",
    "\n",
    "\n",
    "They are going to start with the most common and most basic model known as RFM, which consists of the 3 dimensions.\n",
    "\n",
    "* R - Recency - How recently did the customer purchase?\n",
    "\n",
    "* F - Frequency - How often do they purchase?\n",
    "\n",
    "* M - Monetary Value - How much do they spend?\n",
    "\n",
    "\n",
    "\n",
    "At first glance, it's pretty easy to think of a simple query for each dimension.\n",
    "\n",
    "However, after some thought, it's not quite so easy. It's very open ended, with a lot of grey areas, and no single right or wrong answer (just like 99% of data science and AI!)  For each dimension, there can be some pretty complex ways to determine.\n",
    "\n",
    "The data science team also has to come up with a way to synthesize the 3 dimensions into a single customer value for each customer.\n",
    "\n",
    "\n",
    "\n",
    "The data science team would like for you to present your ideas in the form of a title and 4 paragraphs as follows:\n",
    "\n",
    "* Title - A title describing what you will be explaining\n",
    "\n",
    "* Recency - A brief paragraph explaining your ideas on how the data can be used to determine recency.  \n",
    "\n",
    "* Frequency - A brief paragraph explaining your ideas on how the data can be used to determine frequency.\n",
    "\n",
    "* Monetary Value - A brief paragraph explaining your ideas on how the data can be used to determine monetary value.\n",
    "\n",
    "* Synthesis - A brief paragraph explaining your ideas on how to synthesize the 3 dimensions of recency, frequency, and monetary value into a customer value for each customer and how to determine who the best customers are.\n",
    "\n",
    "\n",
    "\n",
    "Put the title and all 4 paragraphs in a single markdown cell.\n",
    "\n",
    "Note that you do not write code for this, only english language descriptions of your ideas.\n",
    "\n"
   ]
  },
  {
   "cell_type": "markdown",
   "id": "67dd986f",
   "metadata": {},
   "source": [
    "# A (R)elatively (F)unctional (M)odel\n",
    "\n",
    "In the RFM (Recency, Frequency, Monetary value) model, recency refers to the length of time since a customer's last transaction. There are a few approaches for determining recency. Absolute recency calculates the number of days since a customer's last transaction. Relative recency calculates the number of days since the last transaction relative to a specific date. Recency bins place customers into groups based on ranges of time since their last transaction. The recency dimension of the RFM model is key for identifying customers that have interacted (specifically, transacted) with the company most recently.\n",
    "\n",
    "Frequency refers to the customer’s number of transactions over a period of time. There are a few approaches to determining frequency. Absolute frequency calculates the total number of transactions made by a customer. Average frequency calculates the average number of transactions by a customer over a period of time. Frequency bins place customers into groups based on ranges of numbers of transactions. The frequency dimension of the FRM model is key for identifying customers that have higher engagement, and possibly loyalty, with the company.\n",
    "\n",
    "Monetary value refers to the customer’s spending amount in transactions over a period of time. There are a few approaches to determining monetary value. Total monetary value calculates the total amount spent. Average monetary value calculates the average amount spent over a period of time. Monetary value bins place customers into groups based on spending amount. The monetary dimension of the FRM model is key for identifying customers that have spent the most in the past, as it could be indicative of willingness to spend again in the future.\n",
    "\n",
    "The RFM model can be used as a starting point for creating a composite score that reflects the cumulative value of each customer along all three dimensions. The composite score can be used to rank and identify the most valuable customers. A scoring system based on recency, frequency, and monetary value can be constructed along the following guidelines. For recency, a score using a nominal variable can be determined by assigning a score of 5 to customers that have transacted with the company in the last 30 days, a score of 4 to customers that transacted in the last 31-90 days, a score of 3 to customers that transacted in the last 91-180 days, a score of 2 to customers that transacted in the last 181-365 days, a score of 1 to customers that transacted in the 366+ days, a score of 0 to customers that have not transacted previously with the company. For frequency, a score using a nominal variable can be determined by assigning a score of 5 to customers in the top 5th percentile in terms of frequency of purchases in the last year (to be calculated on a rolling basis), a score of 4 to customers that are between the 5th and 10th percentile in frequency, a score of 3 to customers that are between the 10th and 25th percentile in frequency, a score of 2 to customers that are between the 25th and 50th percentile in frequency, a score of 1 to customers in the bottom 50th percentile in frequency, and a score of 0 to customers have not purchased from the company previously. For monetary value, a score using a nominal variable can be determined by assigning a score of 5 to customers that in the top 5th percentile in terms of money spent in the last year (to be calculated on a rolling basis), a score of 4 to customers that are between the 5th and 10th percentile in spending, a score of 3 to customers that are between the 10th and 25th percentile in spending, a score of 2 to customers that are between the 25th and 50th percentile in spending, a score of 1 to customers that in the bottom 50th percentile in spending, and a score of 0 to customers have not purchased from the company previously. After assigning a score along each dimension, the overall score is determined by summing the three scores; where the higher the overall score, the more valuable the customer is to AGM. \n",
    "\n",
    "While the scoring system from the RFM model is useful, there are limitations to consider: 1) the model fails to capture characteristic and attitudes about the customers that influence purchasing, such as demographics and sentiment, 2) the model fails to capture engagement outside of transactions, such as social media interaction, and 3) the model fails to evaluate the profitability of each customer because it focuses on spending amount only. There are two alternative models that may be considered for enhancing the determination of high-value customers for effective targeted marketing: 1) the CLV (Customer Lifetime Value) model evaluates broader metrics, such as customer acquisition and retention costs, and future predicted value generated, and 2) the RFV (Recency, Frequency, Value) model makes one crucial improvement over the RFM model by evaluating the profit margin generated by each customer rather than considering the total spending in general.\n"
   ]
  },
  {
   "cell_type": "code",
   "execution_count": null,
   "id": "0c159c4e",
   "metadata": {},
   "outputs": [],
   "source": []
  }
 ],
 "metadata": {
  "kernelspec": {
   "display_name": "Python 3 (ipykernel)",
   "language": "python",
   "name": "python3"
  },
  "language_info": {
   "codemirror_mode": {
    "name": "ipython",
    "version": 3
   },
   "file_extension": ".py",
   "mimetype": "text/x-python",
   "name": "python",
   "nbconvert_exporter": "python",
   "pygments_lexer": "ipython3",
   "version": "3.9.7"
  }
 },
 "nbformat": 4,
 "nbformat_minor": 5
}
